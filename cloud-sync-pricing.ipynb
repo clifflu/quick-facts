{
 "cells": [
  {
   "cell_type": "markdown",
   "metadata": {},
   "source": [
    "# 雲端儲存服務價格比較表\n",
    "\n",
    "End-user 導向"
   ]
  },
  {
   "cell_type": "code",
   "execution_count": 8,
   "metadata": {},
   "outputs": [],
   "source": [
    "TB = 1024\n",
    "USD = 32 # NTD\n",
    "\n",
    "# data\n",
    "\n",
    "# pricing.*.offerings: (Size in GB, Monthly NTD)\n",
    "pricing = {\n",
    "    \"amazon drive\": {\n",
    "       \"doc\": \"https://www.amazon.com/clouddrive/managestoragev2/allPlans?mgh=1\",\n",
    "        \"offerings\": \n",
    "            [(100, 32)] + \\\n",
    "            [(i * TB, 5 * USD * i) for i in range(1, 10)] + \\\n",
    "            [(i * 10 * TB, 50 * USD * i) for i in range(1, 4)]        \n",
    "    },\n",
    "    \"dropbox\": {\n",
    "        \"doc\": \"https://www.dropbox.com/zh_TW/individual/plans-comparison\",\n",
    "        \"offerings\": [\n",
    "            (2, 0), (1024, 8.25 * USD), (2048, 16.58 * USD)\n",
    "        ],\n",
    "    },\n",
    "    \"google drive\": {\n",
    "        \"doc\": \"https://www.google.com/intl/zh-TW_ALL/drive/pricing/\",\n",
    "        \"offerings\": [(100, 65)] + \\\n",
    "                      [(i * TB, i * 330) for i in (1, 10, 20, 30)]\n",
    "    }, \n",
    "    \"iCloud\": {\n",
    "        \"doc\": \"https://support.apple.com/zh-hk/HT201238\",\n",
    "        \"offerings\": [\n",
    "            (5, 0), (50, 30), (200, 90), (2048, 300)\n",
    "        ],\n",
    "    }, \n",
    "}"
   ]
  },
  {
   "cell_type": "code",
   "execution_count": 10,
   "metadata": {},
   "outputs": [
    {
     "data": {
      "text/plain": [
       "{'amazon drive': {'doc': 'https://www.amazon.com/clouddrive/managestoragev2/allPlans?mgh=1',\n",
       "  'offerings': [(100, 32),\n",
       "   (1024, 160),\n",
       "   (2048, 320),\n",
       "   (3072, 480),\n",
       "   (4096, 640),\n",
       "   (5120, 800),\n",
       "   (6144, 960),\n",
       "   (7168, 1120),\n",
       "   (8192, 1280),\n",
       "   (9216, 1440),\n",
       "   (10240, 1600),\n",
       "   (20480, 3200),\n",
       "   (30720, 4800)]},\n",
       " 'dropbox': {'doc': 'https://www.dropbox.com/zh_TW/individual/plans-comparison',\n",
       "  'offerings': [(2, 0), (1024, 264.0), (2048, 530.56)]},\n",
       " 'google drive': {'doc': 'https://www.google.com/intl/zh-TW_ALL/drive/pricing/',\n",
       "  'offerings': [(100, 65),\n",
       "   (1024, 330),\n",
       "   (10240, 3300),\n",
       "   (20480, 6600),\n",
       "   (30720, 9900)]},\n",
       " 'iCloud': {'doc': 'https://support.apple.com/zh-hk/HT201238',\n",
       "  'offerings': [(5, 0), (50, 30), (200, 90), (2048, 300)]}}"
      ]
     },
     "execution_count": 10,
     "metadata": {},
     "output_type": "execute_result"
    }
   ],
   "source": [
    "%matplotlib inline\n",
    "pricing"
   ]
  }
 ],
 "metadata": {
  "kernelspec": {
   "display_name": "Python 3",
   "language": "python",
   "name": "python3"
  },
  "language_info": {
   "codemirror_mode": {
    "name": "ipython",
    "version": 3
   },
   "file_extension": ".py",
   "mimetype": "text/x-python",
   "name": "python",
   "nbconvert_exporter": "python",
   "pygments_lexer": "ipython3",
   "version": "3.7.0"
  }
 },
 "nbformat": 4,
 "nbformat_minor": 2
}
