{
 "cells": [
  {
   "cell_type": "markdown",
   "metadata": {},
   "source": [
    "# 人力推衍\n"
   ]
  },
  {
   "cell_type": "markdown",
   "metadata": {},
   "source": [
    "* 透過數學模型，分析公司內人力隨遞移矩陣與聘僱品質的變動，直到平衡\n",
    "* 此模型假設：\n",
    "  * 遞移矩陣為常數，不隨公司人力比例、缺額數量等因素變動\n",
    "  * 填補缺額的能力為常數，不隨公司人力比例、缺額數量等因素變動\n",
    "  * 填補時只考慮當下的缺額總數，忽略該次迭代會產生的新缺額\n",
    "  * 員工非好即壞\n",
    "  * 人數使用浮點數\n",
    "* 輸入參數若違反假設，可能會導致非預期的結果"
   ]
  },
  {
   "cell_type": "markdown",
   "metadata": {},
   "source": [
    "## 參數定義"
   ]
  },
  {
   "cell_type": "markdown",
   "metadata": {},
   "source": [
    "### 人力狀態 State"
   ]
  },
  {
   "cell_type": "markdown",
   "metadata": {},
   "source": [
    "由於初始值對平衡態影響有限，人力狀態只接受一個輸入參數：HeadCount。\n",
    "\n",
    "運算中會生成當時的 *好人* 與 *壞人* 數量，以矩陣形式儲存：\n",
    "\n",
    "$\n",
    "\\begin{bmatrix}\n",
    "Good \\\\\n",
    "Bad\n",
    "\\end{bmatrix}\n",
    "$"
   ]
  },
  {
   "cell_type": "markdown",
   "metadata": {},
   "source": [
    "下式中的差額即為當時空缺：\n",
    "\n",
    "$\n",
    "HeadCount \\geq Good + Bad\n",
    "$"
   ]
  },
  {
   "cell_type": "markdown",
   "metadata": {},
   "source": [
    "### 遞移矩陣 Transition"
   ]
  },
  {
   "cell_type": "markdown",
   "metadata": {},
   "source": [
    "隨著時間的過去，員工可能在好壞之間轉變或離職。這個矩陣用來描述轉換發生的機率：\n",
    "\n",
    "$\n",
    "\\begin{bmatrix}\n",
    "Good-Good & Bad-Good\\\\\n",
    "Good-Bad & Bad-Bad\n",
    "\\end{bmatrix}\n",
    "$"
   ]
  },
  {
   "cell_type": "markdown",
   "metadata": {},
   "source": [
    "機率合計會小於 1，差值即是離職率：\n",
    "\n",
    "$\n",
    "\\begin{aligned}\n",
    "GG + GB \\leq 1 \\\\\n",
    "BG + BB \\leq 1\n",
    "\\end{aligned}\n",
    "$"
   ]
  },
  {
   "cell_type": "markdown",
   "metadata": {},
   "source": [
    "### 新聘任 NewHire\n",
    "\n",
    "為模擬公司聘僱行為，補人只考慮當前缺額，忽略預期離職 (Transition)人數；\n",
    "輸入參數為：\n",
    "\n",
    "$\n",
    "\\begin{bmatrix}\n",
    "PctGood \\\\\n",
    "PctBad\n",
    "\\end{bmatrix}\n",
    "$"
   ]
  },
  {
   "cell_type": "markdown",
   "metadata": {},
   "source": [
    "聘用人數則為：\n",
    "\n",
    "$\n",
    "\\begin{aligned}\n",
    "\\begin{bmatrix}\n",
    "NewGood \\\\\n",
    "NewBad\n",
    "\\end{bmatrix}\n",
    "&= \n",
    "\\begin{bmatrix}\n",
    "PctGood \\\\\n",
    "PctBad\n",
    "\\end{bmatrix}\n",
    "* Vacancy \\\\\n",
    "&= \n",
    "\\begin{bmatrix}\n",
    "PctGood \\\\\n",
    "PctBad\n",
    "\\end{bmatrix}\n",
    "* (HeadCount - Good - Bad)\n",
    "\\end{aligned}\n",
    "$"
   ]
  },
  {
   "cell_type": "markdown",
   "metadata": {},
   "source": [
    "## 程式碼"
   ]
  },
  {
   "cell_type": "code",
   "execution_count": 1,
   "metadata": {},
   "outputs": [],
   "source": [
    "import numpy as np"
   ]
  },
  {
   "cell_type": "code",
   "execution_count": 2,
   "metadata": {
    "code_folding": []
   },
   "outputs": [],
   "source": [
    "class Tx:\n",
    "    def __init__(self, GG, BG, GB, BB):\n",
    "        self._tx = np.matrix([\n",
    "            [GG, BG],\n",
    "            [GB, BB]\n",
    "        ])\n",
    "        \n",
    "    @property\n",
    "    def tx(self):\n",
    "        return np.matrix(self._tx)\n",
    "\n",
    "    def __str__(self):\n",
    "        return \"Tranxition: {}\".format(self._tx)"
   ]
  },
  {
   "cell_type": "code",
   "execution_count": 3,
   "metadata": {
    "code_folding": []
   },
   "outputs": [],
   "source": [
    "class NewHire:\n",
    "    def __init__(self, PctGood, PctBad):\n",
    "        self._nh = np.matrix([[PctGood], [PctBad]])\n",
    "    \n",
    "    @property\n",
    "    def nh(self):\n",
    "        return np.matrix(self._nh)\n",
    "\n",
    "    def __str__(self):\n",
    "        return \"NewHire: {}\".format(self._nh)"
   ]
  },
  {
   "cell_type": "code",
   "execution_count": 4,
   "metadata": {
    "code_folding": []
   },
   "outputs": [],
   "source": [
    "class Simulator2:\n",
    "    def __init__(self, tx, nh, headCount=100):\n",
    "        self._headCount = headCount\n",
    "        self._state = np.matrix([[0], [0]])\n",
    "        self._tx = tx\n",
    "        self._nh = nh\n",
    "        self._epoch = 0\n",
    "        \n",
    "    @property\n",
    "    def vacancy(self):\n",
    "        return self._headCount - self._state.sum()\n",
    "\n",
    "    def step_forward(self):\n",
    "        st = self._tx.tx * self._state\n",
    "        if self.vacancy > 0:\n",
    "            st += self._nh.nh * self.vacancy\n",
    "        self._state = st\n",
    "        self._epoch += 1    \n",
    "\n",
    "    def stepping_report(self, iters, interval):\n",
    "        print(self.report)\n",
    "        for i in range(0, iters, interval):\n",
    "            for _ in range(interval):\n",
    "                self.step_forward()\n",
    "\n",
    "            print(self.report)\n",
    "    \n",
    "    def evolve(self, epsilon=0.01, max_rounds=100):\n",
    "\n",
    "        def roughly_equals(m1, m2, a1, a2):\n",
    "            v1 = m1.item((a1, a2)) + epsilon\n",
    "            v2 = m2.item((a1, a2))\n",
    "            \n",
    "            return abs((v2 - v1) / v1) <= epsilon\n",
    "        \n",
    "        while self._epoch < max_rounds:\n",
    "            st = self._state\n",
    "            self.step_forward()\n",
    "            new_st = self._state\n",
    "            \n",
    "            if roughly_equals(st, new_st, 0, 0) and roughly_equals(st, new_st, 1, 0):\n",
    "                print(\"Steady state: \\n\\t{}\".format(self.report))\n",
    "                return\n",
    "        \n",
    "        print(\"Not reaching stead state in {} rounds, \\n\\t{}\".format(max_rounds, self.report))\n",
    "            \n",
    "\n",
    "    def __str__(self):\n",
    "        return \"Epoch: {}, \\n{}, \\n{}, \\n{}\".format(\n",
    "            self._epoch,\n",
    "            self._state,\n",
    "            self._tx,\n",
    "            self._nh,\n",
    "        )\n",
    "    \n",
    "    @property\n",
    "    def report(self):\n",
    "        return \"Epoch {}: (G:{:.2f}, B:{:.2f}), -{:.2f} Ppl\".format(\n",
    "            self._epoch, \n",
    "            self._state.item((0, 0)),\n",
    "            self._state.item((1, 0)), \n",
    "            self.vacancy\n",
    "        )"
   ]
  },
  {
   "cell_type": "code",
   "execution_count": 9,
   "metadata": {},
   "outputs": [],
   "source": [
    "from collections import namedtuple\n",
    "Conf = namedtuple('Conf', [\n",
    "    'GG', 'GB', 'BG', 'BB', \n",
    "    'PctGood', 'PctBad', \n",
    "    'HeadCount'\n",
    "])\n",
    "\n",
    "def SimConf(conf):\n",
    "    return Simulator2(\n",
    "        tx=Tx(GG=conf.GG, GB=conf.GB, BG=conf.BG, BB=conf.BB),\n",
    "        nh=NewHire(PctGood=conf.PctGood, PctBad=conf.PctBad),\n",
    "        headCount=conf.HeadCount\n",
    "    )"
   ]
  },
  {
   "cell_type": "markdown",
   "metadata": {},
   "source": [
    "## 模擬"
   ]
  },
  {
   "cell_type": "code",
   "execution_count": 7,
   "metadata": {},
   "outputs": [
    {
     "name": "stdout",
     "output_type": "stream",
     "text": [
      "Steady state: \n",
      "\tEpoch 15: (G:46.35, B:24.12), -29.53 Ppl\n"
     ]
    }
   ],
   "source": [
    "SimConf(Conf(\n",
    "    GG=0.8, GB=0.05, \n",
    "    BG=0.01, BB=0.85, \n",
    "    PctGood=0.3, PctBad=0.05, \n",
    "    HeadCount=100)).evolve()"
   ]
  },
  {
   "cell_type": "code",
   "execution_count": 12,
   "metadata": {},
   "outputs": [
    {
     "name": "stdout",
     "output_type": "stream",
     "text": [
      "Steady state: \n",
      "\tEpoch 10: (G:32.70, B:47.93), -19.37 Ppl\n"
     ]
    }
   ],
   "source": [
    "SimConf(Conf(\n",
    "    GG=0.8, GB=0.05, \n",
    "    BG=0.01, BB=0.85, \n",
    "    PctGood=0.3, PctBad=0.3, \n",
    "    HeadCount=100)).evolve()"
   ]
  }
 ],
 "metadata": {
  "kernelspec": {
   "display_name": "Python 3",
   "language": "python",
   "name": "python3"
  },
  "language_info": {
   "codemirror_mode": {
    "name": "ipython",
    "version": 3
   },
   "file_extension": ".py",
   "mimetype": "text/x-python",
   "name": "python",
   "nbconvert_exporter": "python",
   "pygments_lexer": "ipython3",
   "version": "3.7.2"
  },
  "toc": {
   "base_numbering": 1,
   "nav_menu": {
    "height": "179px",
    "width": "192px"
   },
   "number_sections": false,
   "sideBar": true,
   "skip_h1_title": false,
   "title_cell": "Table of Contents",
   "title_sidebar": "Contents",
   "toc_cell": false,
   "toc_position": {
    "height": "calc(100% - 180px)",
    "left": "10px",
    "top": "150px",
    "width": "248.594px"
   },
   "toc_section_display": true,
   "toc_window_display": false
  }
 },
 "nbformat": 4,
 "nbformat_minor": 2
}
