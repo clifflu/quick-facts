{
 "cells": [
  {
   "cell_type": "markdown",
   "metadata": {},
   "source": [
    "# AWS Magnetic (standard) Comparison"
   ]
  },
  {
   "cell_type": "code",
   "execution_count": 2,
   "metadata": {
    "collapsed": true,
    "hide_input": false,
    "init_cell": true
   },
   "outputs": [],
   "source": [
    "%matplotlib inline\n",
    "import matplotlib.pyplot as plt"
   ]
  },
  {
   "cell_type": "markdown",
   "metadata": {},
   "source": [
    "## Configs"
   ]
  },
  {
   "cell_type": "code",
   "execution_count": null,
   "metadata": {
    "code_folding": [],
    "collapsed": true
   },
   "outputs": [],
   "source": [
    "# Rate Unit: $USD / GB-Month\n",
    "GP2_RATE = 0.1\n",
    "STD_RATE = 0.05\n",
    "\n",
    "# IO Unit: $USD / IO\n",
    "STD_IO = 0.05 / 1000000\n",
    "\n",
    "# In GB\n",
    "SIM_SIZE_RANGE = (1, 10240)\n",
    "\n",
    "def gp2_baseline_iops(volume):\n",
    "    max_iops = 10000\n",
    "    iops_per_gb = 3.0\n",
    "    return min(int(volume * iops_per_gb), max_iops)"
   ]
  },
  {
   "cell_type": "markdown",
   "metadata": {},
   "source": [
    "## Cost Comparison / Fixed IOPS"
   ]
  },
  {
   "cell_type": "code",
   "execution_count": null,
   "metadata": {
    "collapsed": true
   },
   "outputs": [],
   "source": [
    "cost_standard, cost_gp2 = [], []\n",
    "volumes = range(*SIM_SIZE_RANGE)\n",
    "\n",
    "for volume in volumes:\n",
    "    cost_gp2.append(volume * GP2_RATE)\n",
    "    cost_standard.append(volume * STD_RATE + gp2_baseline_iops(volume) * 3600 * 24 * 30 * STD_IO)"
   ]
  },
  {
   "cell_type": "code",
   "execution_count": null,
   "metadata": {
    "collapsed": false
   },
   "outputs": [],
   "source": [
    "plt.title(\"Cost Comparison / IOPS\")\n",
    "plt.plot(volumes, cost_standard, 'g', label=\"std (magnetic)\", hold=True)\n",
    "plt.plot(volumes, cost_gp2, 'r', label=\"gp2 (SSD)\")\n",
    "plt.xlabel(\"EBS Volume Size (Gb)\")\n",
    "plt.ylabel(\"Cost ($USD/mo)\")\n",
    "plt.legend(loc=4)"
   ]
  },
  {
   "cell_type": "markdown",
   "metadata": {},
   "source": [
    "## IOPS Comparison / Fixed Cost"
   ]
  },
  {
   "cell_type": "code",
   "execution_count": null,
   "metadata": {
    "collapsed": true
   },
   "outputs": [],
   "source": [
    "iops_standard, iops_gp2 = [], []\n",
    "volumes = range(*SIM_SIZE_RANGE)\n",
    "\n",
    "for volume in volumes:\n",
    "    iops = gp2_baseline_iops(volume)\n",
    "    iops_gp2.append(iops)\n",
    "    iops_standard.append(volume * (GP2_RATE - STD_RATE) / STD_IO / (3600 * 24 * 30))"
   ]
  },
  {
   "cell_type": "code",
   "execution_count": null,
   "metadata": {
    "collapsed": false
   },
   "outputs": [],
   "source": [
    "plt.title(\"IOPS Comparison / Cost\")\n",
    "plt.plot(volumes, iops_standard, 'g', label=\"std (magnetic)\", hold=True)\n",
    "plt.plot(volumes, iops_gp2, 'r', label=\"gp2 (SSD)\")\n",
    "plt.xlabel(\"EBS Volume Size (Gb)\")\n",
    "plt.ylabel(\"IOPS\")\n",
    "plt.axis(ymax=11000)\n",
    "plt.legend(loc=4)"
   ]
  }
 ],
 "metadata": {
  "kernelspec": {
   "display_name": "Python 3",
   "language": "python",
   "name": "python3"
  },
  "language_info": {
   "codemirror_mode": {
    "name": "ipython",
    "version": 3
   },
   "file_extension": ".py",
   "mimetype": "text/x-python",
   "name": "python",
   "nbconvert_exporter": "python",
   "pygments_lexer": "ipython3",
   "version": "3.5.0"
  },
  "latex_envs": {
   "bibliofile": "biblio.bib",
   "cite_by": "apalike",
   "current_citInitial": 1,
   "eqLabelWithNumbers": true,
   "eqNumInitial": 0
  }
 },
 "nbformat": 4,
 "nbformat_minor": 0
}
