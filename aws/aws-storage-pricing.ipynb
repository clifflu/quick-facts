{
 "cells": [
  {
   "cell_type": "code",
   "execution_count": 19,
   "metadata": {
    "collapsed": true
   },
   "outputs": [],
   "source": [
    "INDEX_BASE = \"https://pricing.us-east-1.amazonaws.com\"\n",
    "INDEX_PATH = \"/offers/v1.0/aws/index.json\"\n",
    "STORE_PATH = \"data\""
   ]
  },
  {
   "cell_type": "code",
   "execution_count": 20,
   "metadata": {
    "collapsed": true
   },
   "outputs": [],
   "source": [
    "import json\n",
    "import requests\n",
    "\n",
    "from os.path import join\n"
   ]
  },
  {
   "cell_type": "code",
   "execution_count": 24,
   "metadata": {
    "collapsed": true
   },
   "outputs": [],
   "source": [
    "def multifetch(urls):\n",
    "    for identifier, url in urls.items():\n",
    "        response = requests.get(url)\n",
    "        if not response.ok:\n",
    "            print(\"Error fetching %s\" % url)\n",
    "            continue\n",
    "        \n",
    "        print(\"Fetched from %s\" % url)\n",
    "        with open(join(STORE_PATH, \"%s.json\" % identifier), \"w\") as fp:\n",
    "            fp.write(response.text)\n",
    "\n",
    "def get_offers():\n",
    "    filename = join(STORE_PATH, \"index.json\")\n",
    "    with open(filename) as fp:\n",
    "        return json.load(fp).get('offers', {}).values()"
   ]
  },
  {
   "cell_type": "code",
   "execution_count": 25,
   "metadata": {
    "collapsed": false
   },
   "outputs": [
    {
     "name": "stdout",
     "output_type": "stream",
     "text": [
      "Fetched from https://pricing.us-east-1.amazonaws.com/offers/v1.0/aws/index.json\n"
     ]
    }
   ],
   "source": [
    "multifetch({'index': INDEX_BASE + INDEX_PATH})"
   ]
  },
  {
   "cell_type": "markdown",
   "metadata": {},
   "source": [
    "get_offers()"
   ]
  }
 ],
 "metadata": {
  "kernelspec": {
   "display_name": "Python 3",
   "language": "python",
   "name": "python3"
  },
  "language_info": {
   "codemirror_mode": {
    "name": "ipython",
    "version": 3
   },
   "file_extension": ".py",
   "mimetype": "text/x-python",
   "name": "python",
   "nbconvert_exporter": "python",
   "pygments_lexer": "ipython3",
   "version": "3.5.1"
  },
  "latex_envs": {
   "bibliofile": "biblio.bib",
   "cite_by": "apalike",
   "current_citInitial": 1,
   "eqLabelWithNumbers": true,
   "eqNumInitial": 0
  }
 },
 "nbformat": 4,
 "nbformat_minor": 0
}
